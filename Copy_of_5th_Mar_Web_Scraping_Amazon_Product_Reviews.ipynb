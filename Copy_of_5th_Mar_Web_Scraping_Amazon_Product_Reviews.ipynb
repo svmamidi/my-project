{
  "nbformat": 4,
  "nbformat_minor": 0,
  "metadata": {
    "colab": {
      "provenance": [],
      "include_colab_link": true
    },
    "kernelspec": {
      "name": "python3",
      "display_name": "Python 3"
    }
  },
  "cells": [
    {
      "cell_type": "markdown",
      "metadata": {
        "id": "view-in-github",
        "colab_type": "text"
      },
      "source": [
        "<a href=\"https://colab.research.google.com/github/svmamidi/my-project/blob/main/Copy_of_5th_Mar_Web_Scraping_Amazon_Product_Reviews.ipynb\" target=\"_parent\"><img src=\"https://colab.research.google.com/assets/colab-badge.svg\" alt=\"Open In Colab\"/></a>"
      ]
    },
    {
      "cell_type": "code",
      "metadata": {
        "id": "vBF3NfKWkT2W"
      },
      "source": [
        "import requests\n",
        "from bs4 import BeautifulSoup"
      ],
      "execution_count": null,
      "outputs": []
    },
    {
      "cell_type": "code",
      "metadata": {
        "colab": {
          "base_uri": "https://localhost:8080/"
        },
        "id": "K2E9-HemkZeO",
        "outputId": "9e41ae25-a6d7-4bb3-e555-86b12fb1b90f"
      },
      "source": [
        "url = \"https://www.amazon.in/New-Apple-iPhone-Mini-128GB/product-reviews/B08L5VN68Y/ref=cm_cr_dp_d_show_all_btm?ie=UTF8&reviewerType=all_reviews\"\n",
        "code = requests.get(url)\n",
        "code"
      ],
      "execution_count": null,
      "outputs": [
        {
          "output_type": "execute_result",
          "data": {
            "text/plain": [
              "<Response [200]>"
            ]
          },
          "metadata": {
            "tags": []
          },
          "execution_count": 5
        }
      ]
    },
    {
      "cell_type": "code",
      "metadata": {
        "id": "a7ByYLR3lfcw"
      },
      "source": [
        "soup = BeautifulSoup(code.content,'html.parser')\n",
        "print(soup.prettify())"
      ],
      "execution_count": null,
      "outputs": []
    },
    {
      "cell_type": "code",
      "metadata": {
        "colab": {
          "base_uri": "https://localhost:8080/"
        },
        "id": "-vz9-vqfmAot",
        "outputId": "89224f1c-b4b1-4b52-b0c9-b8fe03cac3f8"
      },
      "source": [
        "names = soup.select('span.a-profile-name')[2:]\n",
        "names"
      ],
      "execution_count": null,
      "outputs": [
        {
          "output_type": "execute_result",
          "data": {
            "text/plain": [
              "[<span class=\"a-profile-name\">avinash jangde</span>,\n",
              " <span class=\"a-profile-name\">Mohammad Adil Tanveer</span>,\n",
              " <span class=\"a-profile-name\">Joshy</span>,\n",
              " <span class=\"a-profile-name\">Bharat</span>,\n",
              " <span class=\"a-profile-name\">Jitendra Singh Aswal</span>,\n",
              " <span class=\"a-profile-name\">Teja</span>,\n",
              " <span class=\"a-profile-name\">Sagan</span>,\n",
              " <span class=\"a-profile-name\">vivek</span>,\n",
              " <span class=\"a-profile-name\">Abhinav meid</span>,\n",
              " <span class=\"a-profile-name\">Sachin Jain</span>]"
            ]
          },
          "metadata": {
            "tags": []
          },
          "execution_count": 9
        }
      ]
    },
    {
      "cell_type": "code",
      "metadata": {
        "colab": {
          "base_uri": "https://localhost:8080/"
        },
        "id": "ZQ7de7APm_J-",
        "outputId": "486f181d-d752-4568-d2ed-f85c3577ffb9"
      },
      "source": [
        "len(names)"
      ],
      "execution_count": null,
      "outputs": [
        {
          "output_type": "execute_result",
          "data": {
            "text/plain": [
              "10"
            ]
          },
          "metadata": {
            "tags": []
          },
          "execution_count": 10
        }
      ]
    },
    {
      "cell_type": "code",
      "metadata": {
        "colab": {
          "base_uri": "https://localhost:8080/"
        },
        "id": "z6Kc_O_LnZmI",
        "outputId": "f48b862a-c2ab-496a-ad00-c85f554e6b26"
      },
      "source": [
        "titles = soup.select('a.review-title span')\n",
        "titles"
      ],
      "execution_count": null,
      "outputs": [
        {
          "output_type": "execute_result",
          "data": {
            "text/plain": [
              "[<span>Powerful iPhone at Lower Battery</span>,\n",
              " <span>Buy iPhone 12 mini if you are looking for secondary phone..</span>,\n",
              " <span>Small and cute</span>,\n",
              " <span>Pocket power horse with battery issues</span>,\n",
              " <span>Battery sucks</span>,\n",
              " <span>Worth it when you love compact than anything!</span>,\n",
              " <span>Overrated no need to buy this product, waste of money</span>,\n",
              " <span>Thanx Amazon and Apple....Mini But powerful...</span>,\n",
              " <span>good design with much power</span>,\n",
              " <span>Bad touch experience</span>]"
            ]
          },
          "metadata": {
            "tags": []
          },
          "execution_count": 11
        }
      ]
    },
    {
      "cell_type": "code",
      "metadata": {
        "id": "DIVVIRbopS7z"
      },
      "source": [
        "len(titles)"
      ],
      "execution_count": null,
      "outputs": []
    },
    {
      "cell_type": "code",
      "metadata": {
        "colab": {
          "base_uri": "https://localhost:8080/"
        },
        "id": "suEmU1g9pUjS",
        "outputId": "1a8d515d-0f03-434f-d170-77e568b93b77"
      },
      "source": [
        "dates = soup.select('span.review-date')[2:]\n",
        "dates"
      ],
      "execution_count": null,
      "outputs": [
        {
          "output_type": "execute_result",
          "data": {
            "text/plain": [
              "[<span class=\"a-size-base a-color-secondary review-date\" data-hook=\"review-date\">Reviewed in India on 19 November 2020</span>,\n",
              " <span class=\"a-size-base a-color-secondary review-date\" data-hook=\"review-date\">Reviewed in India on 19 November 2020</span>,\n",
              " <span class=\"a-size-base a-color-secondary review-date\" data-hook=\"review-date\">Reviewed in India on 18 November 2020</span>,\n",
              " <span class=\"a-size-base a-color-secondary review-date\" data-hook=\"review-date\">Reviewed in India on 5 December 2020</span>,\n",
              " <span class=\"a-size-base a-color-secondary review-date\" data-hook=\"review-date\">Reviewed in India on 13 December 2020</span>,\n",
              " <span class=\"a-size-base a-color-secondary review-date\" data-hook=\"review-date\">Reviewed in India on 21 December 2020</span>,\n",
              " <span class=\"a-size-base a-color-secondary review-date\" data-hook=\"review-date\">Reviewed in India on 6 January 2021</span>,\n",
              " <span class=\"a-size-base a-color-secondary review-date\" data-hook=\"review-date\">Reviewed in India on 19 November 2020</span>,\n",
              " <span class=\"a-size-base a-color-secondary review-date\" data-hook=\"review-date\">Reviewed in India on 16 November 2020</span>,\n",
              " <span class=\"a-size-base a-color-secondary review-date\" data-hook=\"review-date\">Reviewed in India on 23 November 2020</span>]"
            ]
          },
          "metadata": {
            "tags": []
          },
          "execution_count": 15
        }
      ]
    },
    {
      "cell_type": "code",
      "metadata": {
        "colab": {
          "base_uri": "https://localhost:8080/"
        },
        "id": "aeYgI90FqUtK",
        "outputId": "0814e21f-09e8-43f2-8557-d6a208382c26"
      },
      "source": [
        "len(dates)"
      ],
      "execution_count": null,
      "outputs": [
        {
          "output_type": "execute_result",
          "data": {
            "text/plain": [
              "10"
            ]
          },
          "metadata": {
            "tags": []
          },
          "execution_count": 16
        }
      ]
    },
    {
      "cell_type": "code",
      "metadata": {
        "id": "5jp3bAj2qWCG"
      },
      "source": [
        "stars = soup.select('i.review-rating span.a-icon-alt')[2:]\n",
        "stars"
      ],
      "execution_count": null,
      "outputs": []
    },
    {
      "cell_type": "code",
      "metadata": {
        "id": "fw-Imgn4rImN"
      },
      "source": [
        "len(stars)"
      ],
      "execution_count": null,
      "outputs": []
    },
    {
      "cell_type": "code",
      "metadata": {
        "id": "TN6Oc3gqrMAG"
      },
      "source": [
        "reviews = soup.select('span.review-text-content span')\n",
        "reviews"
      ],
      "execution_count": null,
      "outputs": []
    },
    {
      "cell_type": "code",
      "metadata": {
        "colab": {
          "base_uri": "https://localhost:8080/"
        },
        "id": "mJgeKf_9suLX",
        "outputId": "1e52d3b2-ac7b-4d4a-aa17-bcc2bd6fce86"
      },
      "source": [
        "len(reviews)"
      ],
      "execution_count": null,
      "outputs": [
        {
          "output_type": "execute_result",
          "data": {
            "text/plain": [
              "10"
            ]
          },
          "metadata": {
            "tags": []
          },
          "execution_count": 27
        }
      ]
    },
    {
      "cell_type": "code",
      "metadata": {
        "colab": {
          "base_uri": "https://localhost:8080/",
          "height": 34
        },
        "id": "eVvM9M7RwRvw",
        "outputId": "ee560940-1e71-4297-ff93-808bc58b5eca"
      },
      "source": [
        "names[0].get_text()"
      ],
      "execution_count": null,
      "outputs": [
        {
          "output_type": "execute_result",
          "data": {
            "application/vnd.google.colaboratory.intrinsic+json": {
              "type": "string"
            },
            "text/plain": [
              "'avinash jangde'"
            ]
          },
          "metadata": {
            "tags": []
          },
          "execution_count": 29
        }
      ]
    },
    {
      "cell_type": "code",
      "metadata": {
        "id": "ss82acZWs0MO"
      },
      "source": [
        "cust_name = []\n",
        "rev_date = []\n",
        "ratings = []\n",
        "rev_title = []\n",
        "rev_content = []\n",
        "for i in range(len(names)):\n",
        "  cust_name.append(names[i].get_text())\n",
        "  rev_date.append(dates[i].get_text().replace(\"Reviewed in India on \",\"\"))\n",
        "  ratings.append(stars[i].get_text())\n",
        "  rev_title.append(titles[i].get_text())\n",
        "  rev_content.append(reviews[i].get_text().strip(\"\\n \"))"
      ],
      "execution_count": null,
      "outputs": []
    },
    {
      "cell_type": "code",
      "metadata": {
        "id": "iFnzO03KwgHz"
      },
      "source": [
        "rev_content"
      ],
      "execution_count": null,
      "outputs": []
    },
    {
      "cell_type": "code",
      "metadata": {
        "id": "CSekc-3Awixo"
      },
      "source": [
        "import pandas as pd"
      ],
      "execution_count": null,
      "outputs": []
    },
    {
      "cell_type": "code",
      "metadata": {
        "colab": {
          "base_uri": "https://localhost:8080/",
          "height": 349
        },
        "id": "8ircq7R3yVgg",
        "outputId": "0a60f3ad-b058-4f5a-ad58-017381ec336c"
      },
      "source": [
        "df = pd.DataFrame()\n",
        "df['Customer Name'] = cust_name\n",
        "df['Date'] = rev_date\n",
        "df['Ratings'] = ratings\n",
        "df['Review Title'] = rev_title\n",
        "df['Reviews'] = rev_content\n",
        "df"
      ],
      "execution_count": null,
      "outputs": [
        {
          "output_type": "execute_result",
          "data": {
            "text/html": [
              "<div>\n",
              "<style scoped>\n",
              "    .dataframe tbody tr th:only-of-type {\n",
              "        vertical-align: middle;\n",
              "    }\n",
              "\n",
              "    .dataframe tbody tr th {\n",
              "        vertical-align: top;\n",
              "    }\n",
              "\n",
              "    .dataframe thead th {\n",
              "        text-align: right;\n",
              "    }\n",
              "</style>\n",
              "<table border=\"1\" class=\"dataframe\">\n",
              "  <thead>\n",
              "    <tr style=\"text-align: right;\">\n",
              "      <th></th>\n",
              "      <th>Customer Name</th>\n",
              "      <th>Date</th>\n",
              "      <th>Ratings</th>\n",
              "      <th>Review Title</th>\n",
              "      <th>Reviews</th>\n",
              "    </tr>\n",
              "  </thead>\n",
              "  <tbody>\n",
              "    <tr>\n",
              "      <th>0</th>\n",
              "      <td>avinash jangde</td>\n",
              "      <td>19 November 2020</td>\n",
              "      <td>4.0 out of 5 stars</td>\n",
              "      <td>Powerful iPhone at Lower Battery</td>\n",
              "      <td>here is my review after 2 days of useDisplay:-...</td>\n",
              "    </tr>\n",
              "    <tr>\n",
              "      <th>1</th>\n",
              "      <td>Mohammad Adil Tanveer</td>\n",
              "      <td>19 November 2020</td>\n",
              "      <td>5.0 out of 5 stars</td>\n",
              "      <td>Buy iPhone 12 mini if you are looking for seco...</td>\n",
              "      <td>I just say that this phone is awesome.. Small ...</td>\n",
              "    </tr>\n",
              "    <tr>\n",
              "      <th>2</th>\n",
              "      <td>Joshy</td>\n",
              "      <td>18 November 2020</td>\n",
              "      <td>4.0 out of 5 stars</td>\n",
              "      <td>Small and cute</td>\n",
              "      <td>Better than previous models , except battery</td>\n",
              "    </tr>\n",
              "    <tr>\n",
              "      <th>3</th>\n",
              "      <td>Bharat</td>\n",
              "      <td>5 December 2020</td>\n",
              "      <td>4.0 out of 5 stars</td>\n",
              "      <td>Pocket power horse with battery issues</td>\n",
              "      <td>Power packed device in hand. Did lot of resear...</td>\n",
              "    </tr>\n",
              "    <tr>\n",
              "      <th>4</th>\n",
              "      <td>Jitendra Singh Aswal</td>\n",
              "      <td>13 December 2020</td>\n",
              "      <td>2.0 out of 5 stars</td>\n",
              "      <td>Battery sucks</td>\n",
              "      <td>The battery is worst of a kind. In today’s sce...</td>\n",
              "    </tr>\n",
              "    <tr>\n",
              "      <th>5</th>\n",
              "      <td>Teja</td>\n",
              "      <td>21 December 2020</td>\n",
              "      <td>5.0 out of 5 stars</td>\n",
              "      <td>Worth it when you love compact than anything!</td>\n",
              "      <td>All in all good phone those who loves compact ...</td>\n",
              "    </tr>\n",
              "    <tr>\n",
              "      <th>6</th>\n",
              "      <td>Sagan</td>\n",
              "      <td>6 January 2021</td>\n",
              "      <td>1.0 out of 5 stars</td>\n",
              "      <td>Overrated no need to buy this product, waste o...</td>\n",
              "      <td>This is DAM small and looks like dummy piece, ...</td>\n",
              "    </tr>\n",
              "    <tr>\n",
              "      <th>7</th>\n",
              "      <td>vivek</td>\n",
              "      <td>19 November 2020</td>\n",
              "      <td>5.0 out of 5 stars</td>\n",
              "      <td>Thanx Amazon and Apple....Mini But powerful...</td>\n",
              "      <td>Awsome product Thanks to Amazon ...placed orde...</td>\n",
              "    </tr>\n",
              "    <tr>\n",
              "      <th>8</th>\n",
              "      <td>Abhinav meid</td>\n",
              "      <td>16 November 2020</td>\n",
              "      <td>5.0 out of 5 stars</td>\n",
              "      <td>good design with much power</td>\n",
              "      <td>this is such a cute phone i love the size and ...</td>\n",
              "    </tr>\n",
              "    <tr>\n",
              "      <th>9</th>\n",
              "      <td>Sachin Jain</td>\n",
              "      <td>23 November 2020</td>\n",
              "      <td>1.0 out of 5 stars</td>\n",
              "      <td>Bad touch experience</td>\n",
              "      <td>Screen is not responsive many times</td>\n",
              "    </tr>\n",
              "  </tbody>\n",
              "</table>\n",
              "</div>"
            ],
            "text/plain": [
              "           Customer Name  ...                                            Reviews\n",
              "0         avinash jangde  ...  here is my review after 2 days of useDisplay:-...\n",
              "1  Mohammad Adil Tanveer  ...  I just say that this phone is awesome.. Small ...\n",
              "2                  Joshy  ...       Better than previous models , except battery\n",
              "3                 Bharat  ...  Power packed device in hand. Did lot of resear...\n",
              "4   Jitendra Singh Aswal  ...  The battery is worst of a kind. In today’s sce...\n",
              "5                   Teja  ...  All in all good phone those who loves compact ...\n",
              "6                  Sagan  ...  This is DAM small and looks like dummy piece, ...\n",
              "7                  vivek  ...  Awsome product Thanks to Amazon ...placed orde...\n",
              "8           Abhinav meid  ...  this is such a cute phone i love the size and ...\n",
              "9            Sachin Jain  ...                Screen is not responsive many times\n",
              "\n",
              "[10 rows x 5 columns]"
            ]
          },
          "metadata": {
            "tags": []
          },
          "execution_count": 50
        }
      ]
    },
    {
      "cell_type": "code",
      "metadata": {
        "id": "KLdJfztzyZMA"
      },
      "source": [
        "df.to_csv(\"amazon.csv\")"
      ],
      "execution_count": null,
      "outputs": []
    },
    {
      "cell_type": "code",
      "metadata": {
        "id": "gYcecvWbzWQc"
      },
      "source": [
        "cust_name = []\n",
        "rev_date = []\n",
        "ratings = []\n",
        "rev_title = []\n",
        "rev_content = []\n",
        "for page in range(1,35):\n",
        "  url = \"https://www.amazon.in/New-Apple-iPhone-Mini-128GB/product-reviews/B08L5VN68Y/ref=cm_cr_arp_d_paging_btm_next_2?ie=UTF8&reviewerType=all_reviews&pageNumber=\"+str(page)\n",
        "  code = requests.get(url)\n",
        "  if str(code) == \"<Response [200]>\":\n",
        "    soup = BeautifulSoup(code.content,'html.parser')\n",
        "    names = soup.select('span.a-profile-name')[2:]\n",
        "    titles = soup.select('a.review-title span')\n",
        "    dates = soup.select('span.review-date')[2:]\n",
        "    stars = soup.select('i.review-rating span.a-icon-alt')[2:]\n",
        "    reviews = soup.select('span.review-text-content span')\n",
        "    for i in range(len(names)):\n",
        "      cust_name.append(names[i].get_text())\n",
        "      rev_date.append(dates[i].get_text().replace(\"Reviewed in India on \",\"\"))\n",
        "      ratings.append(stars[i].get_text())\n",
        "      rev_title.append(titles[i].get_text())\n",
        "      rev_content.append(reviews[i].get_text().strip(\"\\n \"))"
      ],
      "execution_count": null,
      "outputs": []
    },
    {
      "cell_type": "code",
      "metadata": {
        "id": "ufLEK3Oi36y-"
      },
      "source": [
        "str(code) == \"<Response [200]>\""
      ],
      "execution_count": null,
      "outputs": []
    },
    {
      "cell_type": "code",
      "metadata": {
        "colab": {
          "base_uri": "https://localhost:8080/",
          "height": 408
        },
        "id": "rVgyQHvf3b3x",
        "outputId": "8b3dd3ce-9a78-425f-c21a-d3701d9fa27b"
      },
      "source": [
        "df = pd.DataFrame()\n",
        "df['Customer Name'] = cust_name\n",
        "df['Date'] = rev_date\n",
        "df['Ratings'] = ratings\n",
        "df['Review Title'] = rev_title\n",
        "df['Reviews'] = rev_content\n",
        "df"
      ],
      "execution_count": null,
      "outputs": [
        {
          "output_type": "execute_result",
          "data": {
            "text/html": [
              "<div>\n",
              "<style scoped>\n",
              "    .dataframe tbody tr th:only-of-type {\n",
              "        vertical-align: middle;\n",
              "    }\n",
              "\n",
              "    .dataframe tbody tr th {\n",
              "        vertical-align: top;\n",
              "    }\n",
              "\n",
              "    .dataframe thead th {\n",
              "        text-align: right;\n",
              "    }\n",
              "</style>\n",
              "<table border=\"1\" class=\"dataframe\">\n",
              "  <thead>\n",
              "    <tr style=\"text-align: right;\">\n",
              "      <th></th>\n",
              "      <th>Customer Name</th>\n",
              "      <th>Date</th>\n",
              "      <th>Ratings</th>\n",
              "      <th>Review Title</th>\n",
              "      <th>Reviews</th>\n",
              "    </tr>\n",
              "  </thead>\n",
              "  <tbody>\n",
              "    <tr>\n",
              "      <th>0</th>\n",
              "      <td>Nitin Jaswant</td>\n",
              "      <td>17 December 2020</td>\n",
              "      <td>4.0 out of 5 stars</td>\n",
              "      <td>Engineering Marvel</td>\n",
              "      <td>Recently upgraded from iPhone 8 to iPhone 12 m...</td>\n",
              "    </tr>\n",
              "    <tr>\n",
              "      <th>1</th>\n",
              "      <td>Nitin</td>\n",
              "      <td>18 December 2020</td>\n",
              "      <td>1.0 out of 5 stars</td>\n",
              "      <td>Poor phone, heat issue &amp; poor battery</td>\n",
              "      <td>Don't buy mini. I have used personally and aft...</td>\n",
              "    </tr>\n",
              "    <tr>\n",
              "      <th>2</th>\n",
              "      <td>Prashant Gagneja</td>\n",
              "      <td>25 January 2021</td>\n",
              "      <td>1.0 out of 5 stars</td>\n",
              "      <td>Defective Phone. Doesn’t switch on. Battery no...</td>\n",
              "      <td>Phone didn’t switch on. Battery is dead comple...</td>\n",
              "    </tr>\n",
              "    <tr>\n",
              "      <th>3</th>\n",
              "      <td>Amaresh Gupta</td>\n",
              "      <td>14 January 2021</td>\n",
              "      <td>1.0 out of 5 stars</td>\n",
              "      <td>Pathetic Battery Life (or may be I have receiv...</td>\n",
              "      <td>The phone looks perfect except the Battery bac...</td>\n",
              "    </tr>\n",
              "    <tr>\n",
              "      <th>4</th>\n",
              "      <td>Ccir</td>\n",
              "      <td>1 January 2021</td>\n",
              "      <td>5.0 out of 5 stars</td>\n",
              "      <td>Class</td>\n",
              "      <td>It's so beautiful.Anyone who dislikes big phon...</td>\n",
              "    </tr>\n",
              "    <tr>\n",
              "      <th>...</th>\n",
              "      <td>...</td>\n",
              "      <td>...</td>\n",
              "      <td>...</td>\n",
              "      <td>...</td>\n",
              "      <td>...</td>\n",
              "    </tr>\n",
              "    <tr>\n",
              "      <th>135</th>\n",
              "      <td>PRADEEP</td>\n",
              "      <td>17 December 2020</td>\n",
              "      <td>5.0 out of 5 stars</td>\n",
              "      <td>Must buy</td>\n",
              "      <td>Nice product</td>\n",
              "    </tr>\n",
              "    <tr>\n",
              "      <th>136</th>\n",
              "      <td>Ganesan</td>\n",
              "      <td>6 February 2021</td>\n",
              "      <td>5.0 out of 5 stars</td>\n",
              "      <td>Great</td>\n",
              "      <td>Good phone</td>\n",
              "    </tr>\n",
              "    <tr>\n",
              "      <th>137</th>\n",
              "      <td>A Google user</td>\n",
              "      <td>17 February 2021</td>\n",
              "      <td>5.0 out of 5 stars</td>\n",
              "      <td>Nice</td>\n",
              "      <td>Op</td>\n",
              "    </tr>\n",
              "    <tr>\n",
              "      <th>138</th>\n",
              "      <td>nizam</td>\n",
              "      <td>21 February 2021</td>\n",
              "      <td>5.0 out of 5 stars</td>\n",
              "      <td>Love it</td>\n",
              "      <td>Awesome</td>\n",
              "    </tr>\n",
              "    <tr>\n",
              "      <th>139</th>\n",
              "      <td>Asujithkumar</td>\n",
              "      <td>21 December 2020</td>\n",
              "      <td>5.0 out of 5 stars</td>\n",
              "      <td>Super</td>\n",
              "      <td>Good</td>\n",
              "    </tr>\n",
              "  </tbody>\n",
              "</table>\n",
              "<p>140 rows × 5 columns</p>\n",
              "</div>"
            ],
            "text/plain": [
              "        Customer Name  ...                                            Reviews\n",
              "0       Nitin Jaswant  ...  Recently upgraded from iPhone 8 to iPhone 12 m...\n",
              "1               Nitin  ...  Don't buy mini. I have used personally and aft...\n",
              "2    Prashant Gagneja  ...  Phone didn’t switch on. Battery is dead comple...\n",
              "3       Amaresh Gupta  ...  The phone looks perfect except the Battery bac...\n",
              "4                Ccir  ...  It's so beautiful.Anyone who dislikes big phon...\n",
              "..                ...  ...                                                ...\n",
              "135           PRADEEP  ...                                       Nice product\n",
              "136          Ganesan   ...                                         Good phone\n",
              "137     A Google user  ...                                                 Op\n",
              "138             nizam  ...                                            Awesome\n",
              "139      Asujithkumar  ...                                               Good\n",
              "\n",
              "[140 rows x 5 columns]"
            ]
          },
          "metadata": {
            "tags": []
          },
          "execution_count": 58
        }
      ]
    },
    {
      "cell_type": "code",
      "metadata": {
        "id": "SJXOGkvu3mhS"
      },
      "source": [],
      "execution_count": null,
      "outputs": []
    }
  ]
}